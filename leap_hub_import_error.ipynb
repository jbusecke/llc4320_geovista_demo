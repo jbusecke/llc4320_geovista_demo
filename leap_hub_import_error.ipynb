{
 "cells": [
  {
   "cell_type": "code",
   "execution_count": null,
   "id": "5db47e8d-be8d-4835-9aea-7789a25cd6c9",
   "metadata": {},
   "outputs": [],
   "source": [
    "!mamba install -c conda-forge vtk=*=osmesa* pyvista trame -y\n",
    "!pip install geovista --no-deps"
   ]
  }
 ],
 "metadata": {
  "kernelspec": {
   "display_name": "Python 3 (ipykernel)",
   "language": "python",
   "name": "python3"
  },
  "language_info": {
   "codemirror_mode": {
    "name": "ipython",
    "version": 3
   },
   "file_extension": ".py",
   "mimetype": "text/x-python",
   "name": "python",
   "nbconvert_exporter": "python",
   "pygments_lexer": "ipython3",
   "version": "3.10.11"
  }
 },
 "nbformat": 4,
 "nbformat_minor": 5
}
